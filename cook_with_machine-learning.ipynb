{
  "nbformat": 4,
  "nbformat_minor": 0,
  "metadata": {
    "colab": {
      "name": "cook with python.ipynb",
      "provenance": [],
      "collapsed_sections": []
    },
    "kernelspec": {
      "name": "python3",
      "display_name": "Python 3"
    },
    "language_info": {
      "name": "python"
    },
    "accelerator": "GPU"
  },
  "cells": [
    {
      "cell_type": "code",
      "metadata": {
        "colab": {
          "base_uri": "https://localhost:8080/"
        },
        "id": "9uBtpxvAIJre",
        "outputId": "5d3ce7e3-c720-44d3-a329-48602995e427"
      },
      "source": [
        "!python -m pip install paddlepaddle-gpu==2.0.0 -i https://mirror.baidu.com/pypi/simple"
      ],
      "execution_count": 1,
      "outputs": [
        {
          "output_type": "stream",
          "text": [
            "Looking in indexes: https://mirror.baidu.com/pypi/simple\n",
            "Collecting paddlepaddle-gpu==2.0.0\n",
            "  Downloading https://mirror.baidu.com/pypi/packages/d9/24/8eabaed904af5dbdf4f11adeedc0e5ff2bef527d63293b50d0ceb418da1d/paddlepaddle_gpu-2.0.0-cp37-cp37m-manylinux1_x86_64.whl (689.6 MB)\n",
            "\u001b[K     |████████████████████████████████| 689.6 MB 13 kB/s \n",
            "\u001b[?25hRequirement already satisfied: astor in /usr/local/lib/python3.7/dist-packages (from paddlepaddle-gpu==2.0.0) (0.8.1)\n",
            "Requirement already satisfied: requests>=2.20.0 in /usr/local/lib/python3.7/dist-packages (from paddlepaddle-gpu==2.0.0) (2.23.0)\n",
            "Requirement already satisfied: protobuf>=3.1.0 in /usr/local/lib/python3.7/dist-packages (from paddlepaddle-gpu==2.0.0) (3.17.3)\n",
            "Requirement already satisfied: decorator in /usr/local/lib/python3.7/dist-packages (from paddlepaddle-gpu==2.0.0) (4.4.2)\n",
            "Requirement already satisfied: six in /usr/local/lib/python3.7/dist-packages (from paddlepaddle-gpu==2.0.0) (1.15.0)\n",
            "Collecting gast==0.3.3\n",
            "  Downloading https://mirror.baidu.com/pypi/packages/d6/84/759f5dd23fec8ba71952d97bcc7e2c9d7d63bdc582421f3cd4be845f0c98/gast-0.3.3-py2.py3-none-any.whl (9.7 kB)\n",
            "Requirement already satisfied: numpy>=1.13 in /usr/local/lib/python3.7/dist-packages (from paddlepaddle-gpu==2.0.0) (1.19.5)\n",
            "Requirement already satisfied: Pillow in /usr/local/lib/python3.7/dist-packages (from paddlepaddle-gpu==2.0.0) (7.1.2)\n",
            "Requirement already satisfied: chardet<4,>=3.0.2 in /usr/local/lib/python3.7/dist-packages (from requests>=2.20.0->paddlepaddle-gpu==2.0.0) (3.0.4)\n",
            "Requirement already satisfied: certifi>=2017.4.17 in /usr/local/lib/python3.7/dist-packages (from requests>=2.20.0->paddlepaddle-gpu==2.0.0) (2021.5.30)\n",
            "Requirement already satisfied: idna<3,>=2.5 in /usr/local/lib/python3.7/dist-packages (from requests>=2.20.0->paddlepaddle-gpu==2.0.0) (2.10)\n",
            "Requirement already satisfied: urllib3!=1.25.0,!=1.25.1,<1.26,>=1.21.1 in /usr/local/lib/python3.7/dist-packages (from requests>=2.20.0->paddlepaddle-gpu==2.0.0) (1.24.3)\n",
            "Installing collected packages: gast, paddlepaddle-gpu\n",
            "  Attempting uninstall: gast\n",
            "    Found existing installation: gast 0.4.0\n",
            "    Uninstalling gast-0.4.0:\n",
            "      Successfully uninstalled gast-0.4.0\n",
            "\u001b[31mERROR: pip's dependency resolver does not currently take into account all the packages that are installed. This behaviour is the source of the following dependency conflicts.\n",
            "tensorflow 2.6.0 requires gast==0.4.0, but you have gast 0.3.3 which is incompatible.\u001b[0m\n",
            "Successfully installed gast-0.3.3 paddlepaddle-gpu-2.0.0\n"
          ],
          "name": "stdout"
        }
      ]
    },
    {
      "cell_type": "code",
      "metadata": {
        "colab": {
          "base_uri": "https://localhost:8080/"
        },
        "id": "XlcPvu5dIRWp",
        "outputId": "ee39481d-1a1d-4258-82ab-d92075f1a44e"
      },
      "source": [
        "!pip install paddleocr"
      ],
      "execution_count": 2,
      "outputs": [
        {
          "output_type": "stream",
          "text": [
            "Collecting paddleocr\n",
            "  Downloading paddleocr-2.2.0.2-py3-none-any.whl (236 kB)\n",
            "\u001b[?25l\r\u001b[K     |█▍                              | 10 kB 20.7 MB/s eta 0:00:01\r\u001b[K     |██▊                             | 20 kB 25.0 MB/s eta 0:00:01\r\u001b[K     |████▏                           | 30 kB 13.4 MB/s eta 0:00:01\r\u001b[K     |█████▌                          | 40 kB 10.0 MB/s eta 0:00:01\r\u001b[K     |███████                         | 51 kB 5.5 MB/s eta 0:00:01\r\u001b[K     |████████▎                       | 61 kB 6.1 MB/s eta 0:00:01\r\u001b[K     |█████████▊                      | 71 kB 5.8 MB/s eta 0:00:01\r\u001b[K     |███████████                     | 81 kB 6.5 MB/s eta 0:00:01\r\u001b[K     |████████████▌                   | 92 kB 4.9 MB/s eta 0:00:01\r\u001b[K     |█████████████▉                  | 102 kB 5.3 MB/s eta 0:00:01\r\u001b[K     |███████████████▏                | 112 kB 5.3 MB/s eta 0:00:01\r\u001b[K     |████████████████▋               | 122 kB 5.3 MB/s eta 0:00:01\r\u001b[K     |██████████████████              | 133 kB 5.3 MB/s eta 0:00:01\r\u001b[K     |███████████████████▍            | 143 kB 5.3 MB/s eta 0:00:01\r\u001b[K     |████████████████████▊           | 153 kB 5.3 MB/s eta 0:00:01\r\u001b[K     |██████████████████████▏         | 163 kB 5.3 MB/s eta 0:00:01\r\u001b[K     |███████████████████████▌        | 174 kB 5.3 MB/s eta 0:00:01\r\u001b[K     |█████████████████████████       | 184 kB 5.3 MB/s eta 0:00:01\r\u001b[K     |██████████████████████████▎     | 194 kB 5.3 MB/s eta 0:00:01\r\u001b[K     |███████████████████████████▋    | 204 kB 5.3 MB/s eta 0:00:01\r\u001b[K     |█████████████████████████████   | 215 kB 5.3 MB/s eta 0:00:01\r\u001b[K     |██████████████████████████████▍ | 225 kB 5.3 MB/s eta 0:00:01\r\u001b[K     |███████████████████████████████▉| 235 kB 5.3 MB/s eta 0:00:01\r\u001b[K     |████████████████████████████████| 236 kB 5.3 MB/s \n",
            "\u001b[?25hRequirement already satisfied: tqdm in /usr/local/lib/python3.7/dist-packages (from paddleocr) (4.62.0)\n",
            "Requirement already satisfied: lxml in /usr/local/lib/python3.7/dist-packages (from paddleocr) (4.2.6)\n",
            "Collecting imgaug==0.4.0\n",
            "  Downloading imgaug-0.4.0-py2.py3-none-any.whl (948 kB)\n",
            "\u001b[K     |████████████████████████████████| 948 kB 39.0 MB/s \n",
            "\u001b[?25hRequirement already satisfied: openpyxl in /usr/local/lib/python3.7/dist-packages (from paddleocr) (2.5.9)\n",
            "Collecting premailer\n",
            "  Downloading premailer-3.10.0-py2.py3-none-any.whl (19 kB)\n",
            "Collecting opencv-contrib-python==4.4.0.46\n",
            "  Downloading opencv_contrib_python-4.4.0.46-cp37-cp37m-manylinux2014_x86_64.whl (55.7 MB)\n",
            "\u001b[K     |████████████████████████████████| 55.7 MB 12 kB/s \n",
            "\u001b[?25hRequirement already satisfied: numpy in /usr/local/lib/python3.7/dist-packages (from paddleocr) (1.19.5)\n",
            "Collecting pyclipper\n",
            "  Downloading pyclipper-1.3.0-cp37-cp37m-manylinux_2_5_x86_64.manylinux1_x86_64.whl (123 kB)\n",
            "\u001b[K     |████████████████████████████████| 123 kB 47.0 MB/s \n",
            "\u001b[?25hRequirement already satisfied: shapely in /usr/local/lib/python3.7/dist-packages (from paddleocr) (1.7.1)\n",
            "Collecting visualdl\n",
            "  Downloading visualdl-2.2.0-py3-none-any.whl (2.7 MB)\n",
            "\u001b[K     |████████████████████████████████| 2.7 MB 47.4 MB/s \n",
            "\u001b[?25hCollecting python-Levenshtein\n",
            "  Downloading python-Levenshtein-0.12.2.tar.gz (50 kB)\n",
            "\u001b[K     |████████████████████████████████| 50 kB 5.8 MB/s \n",
            "\u001b[?25hCollecting scikit-image==0.17.2\n",
            "  Downloading scikit_image-0.17.2-cp37-cp37m-manylinux1_x86_64.whl (12.5 MB)\n",
            "\u001b[K     |████████████████████████████████| 12.5 MB 16 kB/s \n",
            "\u001b[?25hRequirement already satisfied: lmdb in /usr/local/lib/python3.7/dist-packages (from paddleocr) (0.99)\n",
            "Requirement already satisfied: matplotlib in /usr/local/lib/python3.7/dist-packages (from imgaug==0.4.0->paddleocr) (3.2.2)\n",
            "Requirement already satisfied: imageio in /usr/local/lib/python3.7/dist-packages (from imgaug==0.4.0->paddleocr) (2.4.1)\n",
            "Requirement already satisfied: Pillow in /usr/local/lib/python3.7/dist-packages (from imgaug==0.4.0->paddleocr) (7.1.2)\n",
            "Requirement already satisfied: six in /usr/local/lib/python3.7/dist-packages (from imgaug==0.4.0->paddleocr) (1.15.0)\n",
            "Requirement already satisfied: scipy in /usr/local/lib/python3.7/dist-packages (from imgaug==0.4.0->paddleocr) (1.4.1)\n",
            "Requirement already satisfied: opencv-python in /usr/local/lib/python3.7/dist-packages (from imgaug==0.4.0->paddleocr) (4.1.2.30)\n",
            "Requirement already satisfied: networkx>=2.0 in /usr/local/lib/python3.7/dist-packages (from scikit-image==0.17.2->paddleocr) (2.6.2)\n",
            "Requirement already satisfied: PyWavelets>=1.1.1 in /usr/local/lib/python3.7/dist-packages (from scikit-image==0.17.2->paddleocr) (1.1.1)\n",
            "Requirement already satisfied: tifffile>=2019.7.26 in /usr/local/lib/python3.7/dist-packages (from scikit-image==0.17.2->paddleocr) (2021.8.8)\n",
            "Requirement already satisfied: kiwisolver>=1.0.1 in /usr/local/lib/python3.7/dist-packages (from matplotlib->imgaug==0.4.0->paddleocr) (1.3.1)\n",
            "Requirement already satisfied: cycler>=0.10 in /usr/local/lib/python3.7/dist-packages (from matplotlib->imgaug==0.4.0->paddleocr) (0.10.0)\n",
            "Requirement already satisfied: pyparsing!=2.0.4,!=2.1.2,!=2.1.6,>=2.0.1 in /usr/local/lib/python3.7/dist-packages (from matplotlib->imgaug==0.4.0->paddleocr) (2.4.7)\n",
            "Requirement already satisfied: python-dateutil>=2.1 in /usr/local/lib/python3.7/dist-packages (from matplotlib->imgaug==0.4.0->paddleocr) (2.8.2)\n",
            "Requirement already satisfied: et-xmlfile in /usr/local/lib/python3.7/dist-packages (from openpyxl->paddleocr) (1.1.0)\n",
            "Requirement already satisfied: jdcal in /usr/local/lib/python3.7/dist-packages (from openpyxl->paddleocr) (1.4.1)\n",
            "Collecting cssutils\n",
            "  Downloading cssutils-2.3.0-py3-none-any.whl (404 kB)\n",
            "\u001b[K     |████████████████████████████████| 404 kB 44.7 MB/s \n",
            "\u001b[?25hRequirement already satisfied: requests in /usr/local/lib/python3.7/dist-packages (from premailer->paddleocr) (2.23.0)\n",
            "Collecting cssselect\n",
            "  Downloading cssselect-1.1.0-py2.py3-none-any.whl (16 kB)\n",
            "Requirement already satisfied: cachetools in /usr/local/lib/python3.7/dist-packages (from premailer->paddleocr) (4.2.2)\n",
            "Requirement already satisfied: importlib-metadata in /usr/local/lib/python3.7/dist-packages (from cssutils->premailer->paddleocr) (4.6.4)\n",
            "Requirement already satisfied: typing-extensions>=3.6.4 in /usr/local/lib/python3.7/dist-packages (from importlib-metadata->cssutils->premailer->paddleocr) (3.7.4.3)\n",
            "Requirement already satisfied: zipp>=0.5 in /usr/local/lib/python3.7/dist-packages (from importlib-metadata->cssutils->premailer->paddleocr) (3.5.0)\n",
            "Requirement already satisfied: setuptools in /usr/local/lib/python3.7/dist-packages (from python-Levenshtein->paddleocr) (57.4.0)\n",
            "Requirement already satisfied: urllib3!=1.25.0,!=1.25.1,<1.26,>=1.21.1 in /usr/local/lib/python3.7/dist-packages (from requests->premailer->paddleocr) (1.24.3)\n",
            "Requirement already satisfied: idna<3,>=2.5 in /usr/local/lib/python3.7/dist-packages (from requests->premailer->paddleocr) (2.10)\n",
            "Requirement already satisfied: chardet<4,>=3.0.2 in /usr/local/lib/python3.7/dist-packages (from requests->premailer->paddleocr) (3.0.4)\n",
            "Requirement already satisfied: certifi>=2017.4.17 in /usr/local/lib/python3.7/dist-packages (from requests->premailer->paddleocr) (2021.5.30)\n",
            "Requirement already satisfied: pandas in /usr/local/lib/python3.7/dist-packages (from visualdl->paddleocr) (1.1.5)\n",
            "Collecting shellcheck-py\n",
            "  Downloading shellcheck_py-0.7.2.1-py2.py3-none-manylinux1_x86_64.whl (2.0 MB)\n",
            "\u001b[K     |████████████████████████████████| 2.0 MB 24.0 MB/s \n",
            "\u001b[?25hCollecting flake8>=3.7.9\n",
            "  Downloading flake8-3.9.2-py2.py3-none-any.whl (73 kB)\n",
            "\u001b[K     |████████████████████████████████| 73 kB 1.7 MB/s \n",
            "\u001b[?25hCollecting pre-commit\n",
            "  Downloading pre_commit-2.14.0-py2.py3-none-any.whl (191 kB)\n",
            "\u001b[K     |████████████████████████████████| 191 kB 47.2 MB/s \n",
            "\u001b[?25hRequirement already satisfied: protobuf>=3.11.0 in /usr/local/lib/python3.7/dist-packages (from visualdl->paddleocr) (3.17.3)\n",
            "Collecting Flask-Babel>=1.0.0\n",
            "  Downloading Flask_Babel-2.0.0-py3-none-any.whl (9.3 kB)\n",
            "Collecting bce-python-sdk\n",
            "  Downloading bce_python_sdk-0.8.62-py3-none-any.whl (197 kB)\n",
            "\u001b[K     |████████████████████████████████| 197 kB 47.5 MB/s \n",
            "\u001b[?25hRequirement already satisfied: flask>=1.1.1 in /usr/local/lib/python3.7/dist-packages (from visualdl->paddleocr) (1.1.4)\n",
            "Collecting mccabe<0.7.0,>=0.6.0\n",
            "  Downloading mccabe-0.6.1-py2.py3-none-any.whl (8.6 kB)\n",
            "Collecting pyflakes<2.4.0,>=2.3.0\n",
            "  Downloading pyflakes-2.3.1-py2.py3-none-any.whl (68 kB)\n",
            "\u001b[K     |████████████████████████████████| 68 kB 6.4 MB/s \n",
            "\u001b[?25hCollecting pycodestyle<2.8.0,>=2.7.0\n",
            "  Downloading pycodestyle-2.7.0-py2.py3-none-any.whl (41 kB)\n",
            "\u001b[K     |████████████████████████████████| 41 kB 554 kB/s \n",
            "\u001b[?25hRequirement already satisfied: itsdangerous<2.0,>=0.24 in /usr/local/lib/python3.7/dist-packages (from flask>=1.1.1->visualdl->paddleocr) (1.1.0)\n",
            "Requirement already satisfied: Jinja2<3.0,>=2.10.1 in /usr/local/lib/python3.7/dist-packages (from flask>=1.1.1->visualdl->paddleocr) (2.11.3)\n",
            "Requirement already satisfied: click<8.0,>=5.1 in /usr/local/lib/python3.7/dist-packages (from flask>=1.1.1->visualdl->paddleocr) (7.1.2)\n",
            "Requirement already satisfied: Werkzeug<2.0,>=0.15 in /usr/local/lib/python3.7/dist-packages (from flask>=1.1.1->visualdl->paddleocr) (1.0.1)\n",
            "Requirement already satisfied: Babel>=2.3 in /usr/local/lib/python3.7/dist-packages (from Flask-Babel>=1.0.0->visualdl->paddleocr) (2.9.1)\n",
            "Requirement already satisfied: pytz in /usr/local/lib/python3.7/dist-packages (from Flask-Babel>=1.0.0->visualdl->paddleocr) (2018.9)\n",
            "Requirement already satisfied: MarkupSafe>=0.23 in /usr/local/lib/python3.7/dist-packages (from Jinja2<3.0,>=2.10.1->flask>=1.1.1->visualdl->paddleocr) (2.0.1)\n",
            "Requirement already satisfied: future>=0.6.0 in /usr/local/lib/python3.7/dist-packages (from bce-python-sdk->visualdl->paddleocr) (0.16.0)\n",
            "Collecting pycryptodome>=3.8.0\n",
            "  Downloading pycryptodome-3.10.1-cp35-abi3-manylinux2010_x86_64.whl (1.9 MB)\n",
            "\u001b[K     |████████████████████████████████| 1.9 MB 34.4 MB/s \n",
            "\u001b[?25hCollecting cfgv>=2.0.0\n",
            "  Downloading cfgv-3.3.1-py2.py3-none-any.whl (7.3 kB)\n",
            "Collecting nodeenv>=0.11.1\n",
            "  Downloading nodeenv-1.6.0-py2.py3-none-any.whl (21 kB)\n",
            "Requirement already satisfied: toml in /usr/local/lib/python3.7/dist-packages (from pre-commit->visualdl->paddleocr) (0.10.2)\n",
            "Collecting identify>=1.0.0\n",
            "  Downloading identify-2.2.13-py2.py3-none-any.whl (98 kB)\n",
            "\u001b[K     |████████████████████████████████| 98 kB 6.7 MB/s \n",
            "\u001b[?25hCollecting pyyaml>=5.1\n",
            "  Downloading PyYAML-5.4.1-cp37-cp37m-manylinux1_x86_64.whl (636 kB)\n",
            "\u001b[K     |████████████████████████████████| 636 kB 45.9 MB/s \n",
            "\u001b[?25hCollecting virtualenv>=20.0.8\n",
            "  Downloading virtualenv-20.7.2-py2.py3-none-any.whl (5.3 MB)\n",
            "\u001b[K     |████████████████████████████████| 5.3 MB 38.0 MB/s \n",
            "\u001b[?25hCollecting backports.entry-points-selectable>=1.0.4\n",
            "  Downloading backports.entry_points_selectable-1.1.0-py2.py3-none-any.whl (6.2 kB)\n",
            "Collecting distlib<1,>=0.3.1\n",
            "  Downloading distlib-0.3.2-py2.py3-none-any.whl (338 kB)\n",
            "\u001b[K     |████████████████████████████████| 338 kB 51.6 MB/s \n",
            "\u001b[?25hRequirement already satisfied: filelock<4,>=3.0.0 in /usr/local/lib/python3.7/dist-packages (from virtualenv>=20.0.8->pre-commit->visualdl->paddleocr) (3.0.12)\n",
            "Collecting platformdirs<3,>=2\n",
            "  Downloading platformdirs-2.2.0-py3-none-any.whl (13 kB)\n",
            "Building wheels for collected packages: python-Levenshtein\n",
            "  Building wheel for python-Levenshtein (setup.py) ... \u001b[?25l\u001b[?25hdone\n",
            "  Created wheel for python-Levenshtein: filename=python_Levenshtein-0.12.2-cp37-cp37m-linux_x86_64.whl size=149868 sha256=eb61cbe52a954bffef34c23948ca1ed17154367ac4584b4b5fbec3e13a237f05\n",
            "  Stored in directory: /root/.cache/pip/wheels/05/5f/ca/7c4367734892581bb5ff896f15027a932c551080b2abd3e00d\n",
            "Successfully built python-Levenshtein\n",
            "Installing collected packages: platformdirs, distlib, backports.entry-points-selectable, virtualenv, pyyaml, pyflakes, pycryptodome, pycodestyle, nodeenv, mccabe, identify, cfgv, shellcheck-py, scikit-image, pre-commit, Flask-Babel, flake8, cssutils, cssselect, bce-python-sdk, visualdl, python-Levenshtein, pyclipper, premailer, opencv-contrib-python, imgaug, paddleocr\n",
            "  Attempting uninstall: pyyaml\n",
            "    Found existing installation: PyYAML 3.13\n",
            "    Uninstalling PyYAML-3.13:\n",
            "      Successfully uninstalled PyYAML-3.13\n",
            "  Attempting uninstall: scikit-image\n",
            "    Found existing installation: scikit-image 0.16.2\n",
            "    Uninstalling scikit-image-0.16.2:\n",
            "      Successfully uninstalled scikit-image-0.16.2\n",
            "  Attempting uninstall: opencv-contrib-python\n",
            "    Found existing installation: opencv-contrib-python 4.1.2.30\n",
            "    Uninstalling opencv-contrib-python-4.1.2.30:\n",
            "      Successfully uninstalled opencv-contrib-python-4.1.2.30\n",
            "  Attempting uninstall: imgaug\n",
            "    Found existing installation: imgaug 0.2.9\n",
            "    Uninstalling imgaug-0.2.9:\n",
            "      Successfully uninstalled imgaug-0.2.9\n",
            "\u001b[31mERROR: pip's dependency resolver does not currently take into account all the packages that are installed. This behaviour is the source of the following dependency conflicts.\n",
            "albumentations 0.1.12 requires imgaug<0.2.7,>=0.2.5, but you have imgaug 0.4.0 which is incompatible.\u001b[0m\n",
            "Successfully installed Flask-Babel-2.0.0 backports.entry-points-selectable-1.1.0 bce-python-sdk-0.8.62 cfgv-3.3.1 cssselect-1.1.0 cssutils-2.3.0 distlib-0.3.2 flake8-3.9.2 identify-2.2.13 imgaug-0.4.0 mccabe-0.6.1 nodeenv-1.6.0 opencv-contrib-python-4.4.0.46 paddleocr-2.2.0.2 platformdirs-2.2.0 pre-commit-2.14.0 premailer-3.10.0 pyclipper-1.3.0 pycodestyle-2.7.0 pycryptodome-3.10.1 pyflakes-2.3.1 python-Levenshtein-0.12.2 pyyaml-5.4.1 scikit-image-0.17.2 shellcheck-py-0.7.2.1 virtualenv-20.7.2 visualdl-2.2.0\n"
          ],
          "name": "stdout"
        }
      ]
    },
    {
      "cell_type": "code",
      "metadata": {
        "colab": {
          "base_uri": "https://localhost:8080/"
        },
        "id": "pvYEcKCyI71w",
        "outputId": "b25d8fb3-3335-4b66-8d56-42f914a8bc84"
      },
      "source": [
        "!git clone https://github.com/PaddlePaddle/PaddleOCR"
      ],
      "execution_count": 3,
      "outputs": [
        {
          "output_type": "stream",
          "text": [
            "Cloning into 'PaddleOCR'...\n",
            "remote: Enumerating objects: 20884, done.\u001b[K\n",
            "remote: Counting objects: 100% (466/466), done.\u001b[K\n",
            "remote: Compressing objects: 100% (323/323), done.\u001b[K\n",
            "remote: Total 20884 (delta 289), reused 249 (delta 141), pack-reused 20418\u001b[K\n",
            "Receiving objects: 100% (20884/20884), 136.06 MiB | 30.74 MiB/s, done.\n",
            "Resolving deltas: 100% (14039/14039), done.\n"
          ],
          "name": "stdout"
        }
      ]
    },
    {
      "cell_type": "code",
      "metadata": {
        "id": "nnH85uPzJON2"
      },
      "source": [
        "from paddleocr import PaddleOCR, draw_ocr \n",
        "\n",
        "import pandas as pd\n",
        "import numpy as np\n",
        "from matplotlib import pyplot as plt \n",
        "import cv2 \n",
        "import os \n",
        "\n",
        "import warnings\n",
        "warnings.simplefilter('ignore')"
      ],
      "execution_count": 4,
      "outputs": []
    },
    {
      "cell_type": "code",
      "metadata": {
        "colab": {
          "base_uri": "https://localhost:8080/"
        },
        "id": "stJabQVvJll2",
        "outputId": "0d9782cd-db16-441a-8624-b34bd326da16"
      },
      "source": [
        "ocr_model = PaddleOCR(lang='en')"
      ],
      "execution_count": 5,
      "outputs": [
        {
          "output_type": "stream",
          "text": [
            "download https://paddleocr.bj.bcebos.com/dygraph_v2.0/multilingual/en_ppocr_mobile_v2.0_det_infer.tar to /root/.paddleocr/2.2.0.2/ocr/det/en/en_ppocr_mobile_v2.0_det_infer/en_ppocr_mobile_v2.0_det_infer.tar\n"
          ],
          "name": "stdout"
        },
        {
          "output_type": "stream",
          "text": [
            "100%|██████████| 3.16M/3.16M [00:10<00:00, 316kiB/s] \n"
          ],
          "name": "stderr"
        },
        {
          "output_type": "stream",
          "text": [
            "download https://paddleocr.bj.bcebos.com/dygraph_v2.0/multilingual/en_number_mobile_v2.0_rec_infer.tar to /root/.paddleocr/2.2.0.2/ocr/rec/en/en_number_mobile_v2.0_rec_infer/en_number_mobile_v2.0_rec_infer.tar\n"
          ],
          "name": "stdout"
        },
        {
          "output_type": "stream",
          "text": [
            "100%|██████████| 2.70M/2.70M [00:01<00:00, 1.47MiB/s]\n"
          ],
          "name": "stderr"
        },
        {
          "output_type": "stream",
          "text": [
            "download https://paddleocr.bj.bcebos.com/dygraph_v2.0/ch/ch_ppocr_mobile_v2.0_cls_infer.tar to /root/.paddleocr/2.2.0.2/ocr/cls/ch_ppocr_mobile_v2.0_cls_infer/ch_ppocr_mobile_v2.0_cls_infer.tar\n"
          ],
          "name": "stdout"
        },
        {
          "output_type": "stream",
          "text": [
            "100%|██████████| 1.45M/1.45M [00:04<00:00, 355kiB/s]\n"
          ],
          "name": "stderr"
        },
        {
          "output_type": "stream",
          "text": [
            "Namespace(benchmark=False, cls_batch_num=6, cls_image_shape='3, 48, 192', cls_model_dir='/root/.paddleocr/2.2.0.2/ocr/cls/ch_ppocr_mobile_v2.0_cls_infer', cls_thresh=0.9, cpu_threads=10, det=True, det_algorithm='DB', det_db_box_thresh=0.6, det_db_score_mode='fast', det_db_thresh=0.3, det_db_unclip_ratio=1.5, det_east_cover_thresh=0.1, det_east_nms_thresh=0.2, det_east_score_thresh=0.8, det_limit_side_len=960, det_limit_type='max', det_model_dir='/root/.paddleocr/2.2.0.2/ocr/det/en/en_ppocr_mobile_v2.0_det_infer', det_sast_nms_thresh=0.2, det_sast_polygon=False, det_sast_score_thresh=0.5, drop_score=0.5, e2e_algorithm='PGNet', e2e_char_dict_path='./ppocr/utils/ic15_dict.txt', e2e_limit_side_len=768, e2e_limit_type='max', e2e_model_dir=None, e2e_pgnet_mode='fast', e2e_pgnet_polygon=True, e2e_pgnet_score_thresh=0.5, e2e_pgnet_valid_set='totaltext', enable_mkldnn=False, gpu_mem=500, help='==SUPPRESS==', image_dir=None, ir_optim=True, label_list=['0', '180'], lang='en', layout_path_model='lp://PubLayNet/ppyolov2_r50vd_dcn_365e_publaynet/config', max_batch_size=10, max_text_length=25, min_subgraph_size=10, output='./output/table', precision='fp32', process_id=0, rec=True, rec_algorithm='CRNN', rec_batch_num=6, rec_char_dict_path='/usr/local/lib/python3.7/dist-packages/paddleocr/ppocr/utils/en_dict.txt', rec_char_type='ch', rec_image_shape='3, 32, 320', rec_model_dir='/root/.paddleocr/2.2.0.2/ocr/rec/en/en_number_mobile_v2.0_rec_infer', save_log_path='./log_output/', show_log=True, table_char_dict_path=None, table_char_type='en', table_max_len=488, table_model_dir=None, total_process_num=1, type='ocr', use_angle_cls=False, use_dilation=False, use_gpu=True, use_mp=False, use_pdserving=False, use_space_char=True, use_tensorrt=False, vis_font_path='./doc/fonts/simfang.ttf', warmup=True)\n"
          ],
          "name": "stdout"
        }
      ]
    },
    {
      "cell_type": "code",
      "metadata": {
        "colab": {
          "base_uri": "https://localhost:8080/",
          "height": 35
        },
        "id": "7ZFhvUyKJopk",
        "outputId": "75fed333-e373-44ae-89aa-a7a11de0cf26"
      },
      "source": [
        "img1_path = os.path.join('/content/img1.png')\n",
        "img1_path"
      ],
      "execution_count": 6,
      "outputs": [
        {
          "output_type": "execute_result",
          "data": {
            "application/vnd.google.colaboratory.intrinsic+json": {
              "type": "string"
            },
            "text/plain": [
              "'/content/img1.png'"
            ]
          },
          "metadata": {},
          "execution_count": 6
        }
      ]
    },
    {
      "cell_type": "code",
      "metadata": {
        "colab": {
          "base_uri": "https://localhost:8080/"
        },
        "id": "bZzF1WT2KCW1",
        "outputId": "0152b3b7-931e-44d8-ad8a-bab009d5a18f"
      },
      "source": [
        "result_1 = ocr_model.ocr(img1_path)"
      ],
      "execution_count": 7,
      "outputs": [
        {
          "output_type": "stream",
          "text": [
            "[2021/08/28 14:51:07] root WARNING: Since the angle classifier is not initialized, the angle classifier will not be uesd during the forward process\n",
            "[2021/08/28 14:51:15] root DEBUG: dt_boxes num : 9, elapse : 8.209499597549438\n",
            "[2021/08/28 14:51:15] root DEBUG: rec_res num  : 9, elapse : 0.05021190643310547\n"
          ],
          "name": "stdout"
        }
      ]
    },
    {
      "cell_type": "code",
      "metadata": {
        "colab": {
          "base_uri": "https://localhost:8080/"
        },
        "id": "Aq7tUOnaKTCj",
        "outputId": "f3dd954a-31cf-4d73-d5b0-4b80079417bf"
      },
      "source": [
        "result_1"
      ],
      "execution_count": 8,
      "outputs": [
        {
          "output_type": "execute_result",
          "data": {
            "text/plain": [
              "[[[[197.0, 133.0], [245.0, 127.0], [248.0, 145.0], [200.0, 151.0]],\n",
              "  ('Mutton', 0.997483)],\n",
              " [[[199.0, 153.0], [244.0, 147.0], [247.0, 165.0], [202.0, 171.0]],\n",
              "  ('Masala', 0.9803954)],\n",
              " [[[408.0, 144.0], [557.0, 144.0], [557.0, 214.0], [408.0, 214.0]],\n",
              "  ('CIAN', 0.99290955)],\n",
              " [[[380.0, 221.0], [491.0, 228.0], [490.0, 252.0], [379.0, 245.0]],\n",
              "  ('SPICESE', 0.9852314)],\n",
              " [[[330.0, 321.0], [632.0, 326.0], [632.0, 364.0], [329.0, 359.0]],\n",
              "  ('Mutton Masala', 0.9953771)],\n",
              " [[[634.0, 658.0], [674.0, 661.0], [672.0, 689.0], [632.0, 686.0]],\n",
              "  ('50g', 0.9925687)],\n",
              " [[[633.0, 691.0], [676.0, 691.0], [676.0, 705.0], [633.0, 705.0]],\n",
              "  ('+5g Frec', 0.9449414)]]"
            ]
          },
          "metadata": {},
          "execution_count": 8
        }
      ]
    },
    {
      "cell_type": "code",
      "metadata": {
        "id": "zh9uY2qvKaoS",
        "colab": {
          "base_uri": "https://localhost:8080/"
        },
        "outputId": "05c4cbc5-fa33-443d-850c-280dac7acd13"
      },
      "source": [
        "for values in result_1:\n",
        "  print(values[1][0])"
      ],
      "execution_count": 9,
      "outputs": [
        {
          "output_type": "stream",
          "text": [
            "Mutton\n",
            "Masala\n",
            "CIAN\n",
            "SPICESE\n",
            "Mutton Masala\n",
            "50g\n",
            "+5g Frec\n"
          ],
          "name": "stdout"
        }
      ]
    },
    {
      "cell_type": "code",
      "metadata": {
        "colab": {
          "base_uri": "https://localhost:8080/",
          "height": 35
        },
        "id": "SVmJb-TpP5Kv",
        "outputId": "7255cc45-8566-4ca7-b420-a29a03a35207"
      },
      "source": [
        "m1 = result_1[5][1][0]\n",
        "m1"
      ],
      "execution_count": 10,
      "outputs": [
        {
          "output_type": "execute_result",
          "data": {
            "application/vnd.google.colaboratory.intrinsic+json": {
              "type": "string"
            },
            "text/plain": [
              "'50g'"
            ]
          },
          "metadata": {},
          "execution_count": 10
        }
      ]
    },
    {
      "cell_type": "code",
      "metadata": {
        "id": "66Uwykya_mm7"
      },
      "source": [
        "spices_list = []"
      ],
      "execution_count": 11,
      "outputs": []
    },
    {
      "cell_type": "code",
      "metadata": {
        "id": "O1H0A6gAQF4n"
      },
      "source": [
        "def img(image):\n",
        "  results = ocr_model.ocr(image)\n",
        "  return results"
      ],
      "execution_count": 12,
      "outputs": []
    },
    {
      "cell_type": "code",
      "metadata": {
        "colab": {
          "base_uri": "https://localhost:8080/"
        },
        "id": "s7D4n7UMSDRj",
        "outputId": "a6b6af49-8b61-43ef-8fc4-0c72da2e58e0"
      },
      "source": [
        "img_path1 = os.path.join('/content/img1.png')\n",
        "\n",
        "results1 = img(img_path1)\n",
        "results1"
      ],
      "execution_count": 13,
      "outputs": [
        {
          "output_type": "stream",
          "text": [
            "[2021/08/28 14:51:15] root WARNING: Since the angle classifier is not initialized, the angle classifier will not be uesd during the forward process\n",
            "[2021/08/28 14:51:15] root DEBUG: dt_boxes num : 9, elapse : 0.06316947937011719\n",
            "[2021/08/28 14:51:15] root DEBUG: rec_res num  : 9, elapse : 0.04384469985961914\n"
          ],
          "name": "stdout"
        },
        {
          "output_type": "execute_result",
          "data": {
            "text/plain": [
              "[[[[197.0, 133.0], [245.0, 127.0], [248.0, 145.0], [200.0, 151.0]],\n",
              "  ('Mutton', 0.997483)],\n",
              " [[[199.0, 153.0], [244.0, 147.0], [247.0, 165.0], [202.0, 171.0]],\n",
              "  ('Masala', 0.9803954)],\n",
              " [[[408.0, 144.0], [557.0, 144.0], [557.0, 214.0], [408.0, 214.0]],\n",
              "  ('CIAN', 0.99290955)],\n",
              " [[[380.0, 221.0], [491.0, 228.0], [490.0, 252.0], [379.0, 245.0]],\n",
              "  ('SPICESE', 0.9852314)],\n",
              " [[[330.0, 321.0], [632.0, 326.0], [632.0, 364.0], [329.0, 359.0]],\n",
              "  ('Mutton Masala', 0.9953771)],\n",
              " [[[634.0, 658.0], [674.0, 661.0], [672.0, 689.0], [632.0, 686.0]],\n",
              "  ('50g', 0.9925687)],\n",
              " [[[633.0, 691.0], [676.0, 691.0], [676.0, 705.0], [633.0, 705.0]],\n",
              "  ('+5g Frec', 0.9449414)]]"
            ]
          },
          "metadata": {},
          "execution_count": 13
        }
      ]
    },
    {
      "cell_type": "code",
      "metadata": {
        "colab": {
          "base_uri": "https://localhost:8080/"
        },
        "id": "YM1zqj5K-jCD",
        "outputId": "54cd124f-4b65-4cec-8af9-22f7a10896e2"
      },
      "source": [
        "spice_1 = results1[4][1][0]\n",
        "print(spice_1)\n",
        "spices_list.append(spice_1)"
      ],
      "execution_count": 14,
      "outputs": [
        {
          "output_type": "stream",
          "text": [
            "Mutton Masala\n"
          ],
          "name": "stdout"
        }
      ]
    },
    {
      "cell_type": "code",
      "metadata": {
        "colab": {
          "base_uri": "https://localhost:8080/"
        },
        "id": "QUFGeUP9-p6j",
        "outputId": "3a9750a7-a599-43fd-b334-1b41d28ddee3"
      },
      "source": [
        "img_path = os.path.join('/content/img2.png')\n",
        "\n",
        "results2 = img(img_path)\n",
        "results2"
      ],
      "execution_count": 15,
      "outputs": [
        {
          "output_type": "stream",
          "text": [
            "[2021/08/28 14:51:15] root WARNING: Since the angle classifier is not initialized, the angle classifier will not be uesd during the forward process\n",
            "[2021/08/28 14:51:15] root DEBUG: dt_boxes num : 8, elapse : 0.06500434875488281\n",
            "[2021/08/28 14:51:15] root DEBUG: rec_res num  : 8, elapse : 0.044571638107299805\n"
          ],
          "name": "stdout"
        },
        {
          "output_type": "execute_result",
          "data": {
            "text/plain": [
              "[[[[410.0, 141.0], [559.0, 151.0], [554.0, 220.0], [406.0, 211.0]],\n",
              "  ('CIAN', 0.99935657)],\n",
              " [[[594.0, 137.0], [638.0, 137.0], [638.0, 150.0], [594.0, 150.0]],\n",
              "  ('EXTRI', 0.9199439)],\n",
              " [[[197.0, 186.0], [244.0, 179.0], [247.0, 195.0], [200.0, 203.0]],\n",
              "  ('Sambar', 0.9961906)],\n",
              " [[[199.0, 205.0], [241.0, 200.0], [244.0, 218.0], [202.0, 223.0]],\n",
              "  ('Masala', 0.95492226)],\n",
              " [[[380.0, 221.0], [482.0, 227.0], [481.0, 251.0], [379.0, 246.0]],\n",
              "  ('SPICES', 0.9994108)],\n",
              " [[[327.0, 325.0], [633.0, 330.0], [633.0, 367.0], [326.0, 361.0]],\n",
              "  ('Sambar Masala', 0.9629665)],\n",
              " [[[632.0, 654.0], [677.0, 657.0], [674.0, 690.0], [629.0, 687.0]],\n",
              "  ('50g', 0.92681867)],\n",
              " [[[631.0, 687.0], [677.0, 690.0], [676.0, 709.0], [630.0, 706.0]],\n",
              "  ('+5g Free', 0.90704006)]]"
            ]
          },
          "metadata": {},
          "execution_count": 15
        }
      ]
    },
    {
      "cell_type": "code",
      "metadata": {
        "colab": {
          "base_uri": "https://localhost:8080/"
        },
        "id": "tYS_gFFf_M38",
        "outputId": "af5cee19-80ff-4e93-eda5-871bd4d61066"
      },
      "source": [
        "spice_2 = results2[5][1][0]\n",
        "print(spice_2)\n",
        "spices_list.append(spice_2)"
      ],
      "execution_count": 16,
      "outputs": [
        {
          "output_type": "stream",
          "text": [
            "Sambar Masala\n"
          ],
          "name": "stdout"
        }
      ]
    },
    {
      "cell_type": "code",
      "metadata": {
        "colab": {
          "base_uri": "https://localhost:8080/"
        },
        "id": "0cEgxV0N_T2s",
        "outputId": "45d22353-e0ee-4c21-fcba-1f2495e2a0f3"
      },
      "source": [
        "img_path = os.path.join('/content/img3.png')\n",
        "\n",
        "results3 = img(img_path)\n",
        "results3"
      ],
      "execution_count": 17,
      "outputs": [
        {
          "output_type": "stream",
          "text": [
            "[2021/08/28 14:51:16] root WARNING: Since the angle classifier is not initialized, the angle classifier will not be uesd during the forward process\n",
            "[2021/08/28 14:51:16] root DEBUG: dt_boxes num : 7, elapse : 0.04595637321472168\n",
            "[2021/08/28 14:51:16] root DEBUG: rec_res num  : 7, elapse : 0.046633243560791016\n"
          ],
          "name": "stdout"
        },
        {
          "output_type": "execute_result",
          "data": {
            "text/plain": [
              "[[[[187.0, 245.0], [377.0, 243.0], [377.0, 281.0], [188.0, 283.0]],\n",
              "  ('EMGEES', 0.9990737)],\n",
              " [[[174.0, 324.0], [331.0, 324.0], [331.0, 348.0], [174.0, 348.0]],\n",
              "  ('Fish Masala', 0.9994981)],\n",
              " [[[194.0, 351.0], [300.0, 352.0], [300.0, 369.0], [193.0, 368.0]],\n",
              "  ('alegamoe', 0.6189246)],\n",
              " [[[97.0, 631.0], [175.0, 633.0], [174.0, 651.0], [97.0, 649.0]],\n",
              "  ('EMGEES', 0.99876004)],\n",
              " [[[105.0, 656.0], [167.0, 656.0], [167.0, 666.0], [105.0, 666.0]],\n",
              "  ('Fish Masala', 0.9773739)],\n",
              " [[[424.0, 650.0], [480.0, 650.0], [480.0, 664.0], [424.0, 664.0]],\n",
              "  ('Net.Wt.', 0.9759866)],\n",
              " [[[425.0, 664.0], [486.0, 667.0], [485.0, 685.0], [424.0, 682.0]],\n",
              "  ('200gm', 0.9993612)]]"
            ]
          },
          "metadata": {},
          "execution_count": 17
        }
      ]
    },
    {
      "cell_type": "code",
      "metadata": {
        "colab": {
          "base_uri": "https://localhost:8080/"
        },
        "id": "Ww5uw7lg_YET",
        "outputId": "cd8eb1e6-4c06-4318-ddc9-efdf1fab29cb"
      },
      "source": [
        "spice_3 = results3[4][1][0]\n",
        "print(spice_3)\n",
        "spices_list.append(spice_3)"
      ],
      "execution_count": 18,
      "outputs": [
        {
          "output_type": "stream",
          "text": [
            "Fish Masala\n"
          ],
          "name": "stdout"
        }
      ]
    },
    {
      "cell_type": "code",
      "metadata": {
        "colab": {
          "base_uri": "https://localhost:8080/"
        },
        "id": "wdCKR5E5_eJ7",
        "outputId": "49900363-3966-4876-dbdd-0199a8c051ce"
      },
      "source": [
        "img_path = os.path.join('/content/img4.png')\n",
        "\n",
        "results4 = img(img_path)\n",
        "results4"
      ],
      "execution_count": 19,
      "outputs": [
        {
          "output_type": "stream",
          "text": [
            "[2021/08/28 14:51:16] root WARNING: Since the angle classifier is not initialized, the angle classifier will not be uesd during the forward process\n",
            "[2021/08/28 14:51:16] root DEBUG: dt_boxes num : 3, elapse : 0.02150750160217285\n",
            "[2021/08/28 14:51:16] root DEBUG: rec_res num  : 3, elapse : 0.024282217025756836\n"
          ],
          "name": "stdout"
        },
        {
          "output_type": "execute_result",
          "data": {
            "text/plain": [
              "[[[[104.0, 107.0], [284.0, 103.0], [285.0, 155.0], [105.0, 158.0]],\n",
              "  ('Aachi', 0.99856675)],\n",
              " [[[77.0, 197.0], [303.0, 200.0], [303.0, 234.0], [77.0, 230.0]],\n",
              "  ('ChilliPowder', 0.9983426)],\n",
              " [[[59.0, 380.0], [98.0, 380.0], [98.0, 403.0], [59.0, 403.0]],\n",
              "  ('100', 0.9994585)]]"
            ]
          },
          "metadata": {},
          "execution_count": 19
        }
      ]
    },
    {
      "cell_type": "code",
      "metadata": {
        "colab": {
          "base_uri": "https://localhost:8080/"
        },
        "id": "34SkV3IU_5aG",
        "outputId": "12afef88-bbfc-4498-8e93-c475e623cd40"
      },
      "source": [
        "spice_4 = results4[1][1][0]\n",
        "print(spice_4)\n",
        "spices_list.append(spice_4)"
      ],
      "execution_count": 20,
      "outputs": [
        {
          "output_type": "stream",
          "text": [
            "ChilliPowder\n"
          ],
          "name": "stdout"
        }
      ]
    },
    {
      "cell_type": "code",
      "metadata": {
        "colab": {
          "base_uri": "https://localhost:8080/"
        },
        "id": "hY5DSzMpAHeV",
        "outputId": "51739231-07f6-4556-9d81-b9e013cad5f7"
      },
      "source": [
        "img_path = os.path.join('/content/img5.png')\n",
        "\n",
        "results5 = img(img_path)\n",
        "results5"
      ],
      "execution_count": 21,
      "outputs": [
        {
          "output_type": "stream",
          "text": [
            "[2021/08/28 14:51:16] root WARNING: Since the angle classifier is not initialized, the angle classifier will not be uesd during the forward process\n",
            "[2021/08/28 14:51:16] root DEBUG: dt_boxes num : 5, elapse : 0.021116256713867188\n",
            "[2021/08/28 14:51:16] root DEBUG: rec_res num  : 5, elapse : 0.02754378318786621\n"
          ],
          "name": "stdout"
        },
        {
          "output_type": "execute_result",
          "data": {
            "text/plain": [
              "[[[[158.0, 168.0], [262.0, 165.0], [262.0, 190.0], [159.0, 192.0]],\n",
              "  ('RASAM', 0.99944717)],\n",
              " [[[171.0, 192.0], [250.0, 192.0], [250.0, 206.0], [171.0, 206.0]],\n",
              "  ('POWDER', 0.9967759)],\n",
              " [[[162.0, 211.0], [265.0, 211.0], [265.0, 233.0], [162.0, 233.0]],\n",
              "  ('geU Guniq', 0.60410905)]]"
            ]
          },
          "metadata": {},
          "execution_count": 21
        }
      ]
    },
    {
      "cell_type": "code",
      "metadata": {
        "colab": {
          "base_uri": "https://localhost:8080/"
        },
        "id": "bLYUgXDxALlM",
        "outputId": "aa8269e3-0bd2-4fb4-b871-3381ecce50cd"
      },
      "source": [
        "spice_5 = results5[0][1][0]\n",
        "print(spice_5)\n",
        "spices_list.append(spice_5)"
      ],
      "execution_count": 22,
      "outputs": [
        {
          "output_type": "stream",
          "text": [
            "RASAM\n"
          ],
          "name": "stdout"
        }
      ]
    },
    {
      "cell_type": "code",
      "metadata": {
        "colab": {
          "base_uri": "https://localhost:8080/"
        },
        "id": "2TgR93TfASET",
        "outputId": "b1404413-40af-4fd8-aaff-a7b5a1286c7b"
      },
      "source": [
        "img_path = os.path.join('/content/img6.png')\n",
        "\n",
        "results6 = img(img_path)\n",
        "results6"
      ],
      "execution_count": 23,
      "outputs": [
        {
          "output_type": "stream",
          "text": [
            "[2021/08/28 14:51:16] root WARNING: Since the angle classifier is not initialized, the angle classifier will not be uesd during the forward process\n",
            "[2021/08/28 14:51:16] root DEBUG: dt_boxes num : 4, elapse : 0.023254871368408203\n",
            "[2021/08/28 14:51:16] root DEBUG: rec_res num  : 4, elapse : 0.026270151138305664\n"
          ],
          "name": "stdout"
        },
        {
          "output_type": "execute_result",
          "data": {
            "text/plain": [
              "[[[[53.0, 80.0], [264.0, 54.0], [270.0, 103.0], [60.0, 129.0]],\n",
              "  ('EVEREST', 0.9992462)],\n",
              " [[[52.0, 155.0], [266.0, 136.0], [268.0, 167.0], [55.0, 185.0]],\n",
              "  ('ShahiPaneer', 0.9907383)],\n",
              " [[[96.0, 191.0], [215.0, 181.0], [217.0, 210.0], [99.0, 220.0]],\n",
              "  ('Masala', 0.9983848)]]"
            ]
          },
          "metadata": {},
          "execution_count": 23
        }
      ]
    },
    {
      "cell_type": "code",
      "metadata": {
        "colab": {
          "base_uri": "https://localhost:8080/"
        },
        "id": "5_WqgIDqSV0W",
        "outputId": "957a28d6-770c-46c8-f369-23e72347e0b3"
      },
      "source": [
        "img_path = os.path.join('/content/biriyani.jpg')\n",
        "\n",
        "results6 = img(img_path)\n",
        "results6"
      ],
      "execution_count": 56,
      "outputs": [
        {
          "output_type": "stream",
          "text": [
            "[2021/08/28 15:04:22] root WARNING: Since the angle classifier is not initialized, the angle classifier will not be uesd during the forward process\n",
            "[2021/08/28 15:04:22] root DEBUG: dt_boxes num : 7, elapse : 0.07007098197937012\n",
            "[2021/08/28 15:04:22] root DEBUG: rec_res num  : 7, elapse : 0.04307699203491211\n"
          ],
          "name": "stdout"
        },
        {
          "output_type": "execute_result",
          "data": {
            "text/plain": [
              "[[[[252.0, 120.0], [442.0, 83.0], [460.0, 172.0], [270.0, 209.0]],\n",
              "  ('catch', 0.8407723)],\n",
              " [[[818.0, 181.0], [888.0, 183.0], [883.0, 484.0], [812.0, 482.0]],\n",
              "  ('elesew', 0.7358727)],\n",
              " [[[189.0, 291.0], [479.0, 245.0], [484.0, 281.0], [195.0, 326.0]],\n",
              "  ('BIRYANIMASALA', 0.99482906)],\n",
              " [[[741.0, 707.0], [862.0, 710.0], [860.0, 795.0], [739.0, 792.0]],\n",
              "  ('50', 0.9995786)],\n",
              " [[[145.0, 760.0], [206.0, 760.0], [206.0, 781.0], [145.0, 781.0]],\n",
              "  ('SPICES', 0.99763805)],\n",
              " [[[770.0, 818.0], [828.0, 818.0], [828.0, 890.0], [770.0, 890.0]],\n",
              "  ('g', 0.9963217)]]"
            ]
          },
          "metadata": {},
          "execution_count": 56
        }
      ]
    },
    {
      "cell_type": "code",
      "metadata": {
        "colab": {
          "base_uri": "https://localhost:8080/"
        },
        "id": "Pv9iwb_-AW-8",
        "outputId": "c4ac5ceb-3ff4-4b9f-e59e-d280c146f5e7"
      },
      "source": [
        "spice_6 = results6[2][1][0]\n",
        "print(spice_6)\n",
        "spices_list.append(spice_6)"
      ],
      "execution_count": 57,
      "outputs": [
        {
          "output_type": "stream",
          "text": [
            "BIRYANIMASALA\n"
          ],
          "name": "stdout"
        }
      ]
    },
    {
      "cell_type": "code",
      "metadata": {
        "colab": {
          "base_uri": "https://localhost:8080/"
        },
        "id": "e5L9tb9eWxYB",
        "outputId": "4907730d-cf2b-4e50-b343-8c0a1f31cbce"
      },
      "source": [
        "spice_7 = results6[2][1][0]\n",
        "print(spice_7)\n",
        "spices_list.append(spice_7)"
      ],
      "execution_count": 85,
      "outputs": [
        {
          "output_type": "stream",
          "text": [
            "MUTTONMASALA\n"
          ],
          "name": "stdout"
        }
      ]
    },
    {
      "cell_type": "code",
      "metadata": {
        "colab": {
          "base_uri": "https://localhost:8080/"
        },
        "id": "7bVk-tpbWo_T",
        "outputId": "73a5cfa9-7a42-4c82-ab54-6eecf297274c"
      },
      "source": [
        "img_path = os.path.join('/content/mutton.jpg')\n",
        "\n",
        "results6 = img(img_path)\n",
        "results6"
      ],
      "execution_count": 86,
      "outputs": [
        {
          "output_type": "stream",
          "text": [
            "[2021/08/28 15:22:57] root WARNING: Since the angle classifier is not initialized, the angle classifier will not be uesd during the forward process\n",
            "[2021/08/28 15:22:57] root DEBUG: dt_boxes num : 4, elapse : 0.02433013916015625\n",
            "[2021/08/28 15:22:57] root DEBUG: rec_res num  : 4, elapse : 0.03810882568359375\n"
          ],
          "name": "stdout"
        },
        {
          "output_type": "execute_result",
          "data": {
            "text/plain": [
              "[[[[100.0, 90.0], [251.0, 92.0], [251.0, 119.0], [99.0, 117.0]],\n",
              "  ('SAOJI', 0.9984395)],\n",
              " [[[112.0, 128.0], [234.0, 127.0], [234.0, 145.0], [112.0, 146.0]],\n",
              "  ('SPICES', 0.9952455)],\n",
              " [[[74.0, 174.0], [285.0, 174.0], [285.0, 194.0], [74.0, 194.0]],\n",
              "  ('MUTTONMASALA', 0.9919522)]]"
            ]
          },
          "metadata": {},
          "execution_count": 86
        }
      ]
    },
    {
      "cell_type": "code",
      "metadata": {
        "colab": {
          "base_uri": "https://localhost:8080/"
        },
        "id": "0dynFZliAjet",
        "outputId": "3e99dc43-0574-469a-e8dc-6a5b039964cf"
      },
      "source": [
        "spices_list "
      ],
      "execution_count": 87,
      "outputs": [
        {
          "output_type": "execute_result",
          "data": {
            "text/plain": [
              "['Mutton Masala',\n",
              " 'Sambar Masala',\n",
              " 'Fish Masala',\n",
              " 'ChilliPowder',\n",
              " 'RASAM',\n",
              " 'ShahiPaneer',\n",
              " 'BIRYANIMASALA',\n",
              " 'MUTTONMASALA']"
            ]
          },
          "metadata": {},
          "execution_count": 87
        }
      ]
    },
    {
      "cell_type": "code",
      "metadata": {
        "colab": {
          "base_uri": "https://localhost:8080/"
        },
        "id": "6PZIKuckBE-N",
        "outputId": "ff687bac-223c-409b-872b-0b02c999dfe3"
      },
      "source": [
        "dishes = ['mutton curry, mutton gravy and mutton tikka','Sambar, Bismillabath','Fish curry, Fish dry, and Fish fry','add hotness to your taste','Rasam','panner masala, panner tikka, panner dry and panner fry','chicken biriyani, mutton biriyani, hyderbadi biriyani and dhum biriyani','mutton curry, mutton gravy and mutton tikka']\n",
        "dishes"
      ],
      "execution_count": 97,
      "outputs": [
        {
          "output_type": "execute_result",
          "data": {
            "text/plain": [
              "['mutton curry, mutton gravy and mutton tikka',\n",
              " 'Sambar, Bismillabath',\n",
              " 'Fish curry, Fish dry, and Fish fry',\n",
              " 'add hotness to your taste',\n",
              " 'Rasam',\n",
              " 'panner masala, panner tikka, panner dry and panner fry',\n",
              " 'chicken biriyani, mutton biriyani, hyderbadi biriyani and dhum biriyani',\n",
              " 'mutton curry, mutton gravy and mutton tikka']"
            ]
          },
          "metadata": {},
          "execution_count": 97
        }
      ]
    },
    {
      "cell_type": "code",
      "metadata": {
        "id": "4aa2N2L5Bp8A"
      },
      "source": [
        "\n",
        "cookery = dict(zip(spices_list,dishes))"
      ],
      "execution_count": 98,
      "outputs": []
    },
    {
      "cell_type": "code",
      "metadata": {
        "colab": {
          "base_uri": "https://localhost:8080/"
        },
        "id": "x81nWBJiBxaW",
        "outputId": "2090c939-6e10-48f2-c23a-64325061384b"
      },
      "source": [
        "cookery"
      ],
      "execution_count": 99,
      "outputs": [
        {
          "output_type": "execute_result",
          "data": {
            "text/plain": [
              "{'BIRYANIMASALA': 'chicken biriyani, mutton biriyani, hyderbadi biriyani and dhum biriyani',\n",
              " 'ChilliPowder': 'add hotness to your taste',\n",
              " 'Fish Masala': 'Fish curry, Fish dry, and Fish fry',\n",
              " 'MUTTONMASALA': 'mutton curry, mutton gravy and mutton tikka',\n",
              " 'Mutton Masala': 'mutton curry, mutton gravy and mutton tikka',\n",
              " 'RASAM': 'Rasam',\n",
              " 'Sambar Masala': 'Sambar, Bismillabath',\n",
              " 'ShahiPaneer': 'panner masala, panner tikka, panner dry and panner fry'}"
            ]
          },
          "metadata": {},
          "execution_count": 99
        }
      ]
    },
    {
      "cell_type": "code",
      "metadata": {
        "id": "AiK4FVbgBySu"
      },
      "source": [
        "recipe = dict((k.lower(), v.lower()) for k,v in cookery.items())"
      ],
      "execution_count": 100,
      "outputs": []
    },
    {
      "cell_type": "code",
      "metadata": {
        "colab": {
          "base_uri": "https://localhost:8080/"
        },
        "id": "-Web-yDzHR5A",
        "outputId": "928e1413-7862-4ae5-c3e7-d434486b9cb7"
      },
      "source": [
        "img_path = os.path.join('/content/mutton_masala.jpg')\n",
        "test_results = img(img_path)\n",
        "\n",
        "vals = []\n",
        "for res in test_results:\n",
        "  values = res[1][0]\n",
        "  vals.append(values)\n",
        "\n",
        "print(vals)"
      ],
      "execution_count": 115,
      "outputs": [
        {
          "output_type": "stream",
          "text": [
            "[2021/08/28 15:33:51] root WARNING: Since the angle classifier is not initialized, the angle classifier will not be uesd during the forward process\n",
            "[2021/08/28 15:33:51] root DEBUG: dt_boxes num : 3, elapse : 0.023288726806640625\n",
            "[2021/08/28 15:33:51] root DEBUG: rec_res num  : 3, elapse : 0.026422739028930664\n",
            "['Aachi', 'Mutton Masala', '10A']\n"
          ],
          "name": "stdout"
        }
      ]
    },
    {
      "cell_type": "code",
      "metadata": {
        "colab": {
          "base_uri": "https://localhost:8080/"
        },
        "id": "EuB5vPb7Q3RC",
        "outputId": "30c5821c-a237-419e-8dc5-4b2615c1b235"
      },
      "source": [
        "spice_list_dataset = []\n",
        "\n",
        "for item in spices_list:\n",
        "  spice_list_dataset.append(str.lower(item))\n",
        "\n",
        "\n",
        "test_vals = []\n",
        "for item in vals:\n",
        "  test_vals.append(str.lower(item))\n",
        "\n",
        "\n",
        "specific_spice = list(set(spice_list_dataset) & set(test_vals))\n",
        "print('with',specific_spice[0],'you can prepare', recipe[specific_spice[0]])"
      ],
      "execution_count": 116,
      "outputs": [
        {
          "output_type": "stream",
          "text": [
            "with mutton masala you can prepare mutton curry, mutton gravy and mutton tikka\n"
          ],
          "name": "stdout"
        }
      ]
    },
    {
      "cell_type": "code",
      "metadata": {
        "id": "DcyQVMLTRkiI"
      },
      "source": [
        ""
      ],
      "execution_count": 102,
      "outputs": []
    },
    {
      "cell_type": "code",
      "metadata": {
        "id": "3rYrH8XBUbTj"
      },
      "source": [
        ""
      ],
      "execution_count": null,
      "outputs": []
    }
  ]
}